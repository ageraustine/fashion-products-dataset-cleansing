{
  "nbformat": 4,
  "nbformat_minor": 0,
  "metadata": {
    "colab": {
      "provenance": [],
      "collapsed_sections": [],
      "authorship_tag": "ABX9TyPzg7Zpx4lClZDuxAnamOWi",
      "include_colab_link": true
    },
    "kernelspec": {
      "name": "python3",
      "display_name": "Python 3"
    },
    "language_info": {
      "name": "python"
    }
  },
  "cells": [
    {
      "cell_type": "markdown",
      "metadata": {
        "id": "view-in-github",
        "colab_type": "text"
      },
      "source": [
        "<a href=\"https://colab.research.google.com/github/ageraustine/fashion-products-dataset-cleansing/blob/master/Fashion_Products_Dataset.ipynb\" target=\"_parent\"><img src=\"https://colab.research.google.com/assets/colab-badge.svg\" alt=\"Open In Colab\"/></a>"
      ]
    },
    {
      "cell_type": "markdown",
      "source": [
        "               DATA FETCHING AND PREPROCESSING"
      ],
      "metadata": {
        "id": "YJTWZKSBL8d1"
      }
    },
    {
      "cell_type": "code",
      "source": [
        "import pandas as pd\n",
        "import numpy as np"
      ],
      "metadata": {
        "id": "n94MZd_BmnIt"
      },
      "execution_count": 1,
      "outputs": []
    },
    {
      "cell_type": "code",
      "source": [
        "from google.colab import drive\n",
        "drive.mount('/content/drive/')\n",
        "styles_path = '/content/drive/MyDrive/datasets/fashion_dataset/styles.csv'"
      ],
      "metadata": {
        "id": "H3afRLoDmvLL",
        "colab": {
          "base_uri": "https://localhost:8080/"
        },
        "outputId": "1e8e2975-87f3-4da4-cc8c-1ea1da0316b9"
      },
      "execution_count": 2,
      "outputs": [
        {
          "output_type": "stream",
          "name": "stdout",
          "text": [
            "Mounted at /content/drive/\n"
          ]
        }
      ]
    },
    {
      "cell_type": "markdown",
      "source": [
        "                            Categorizing Images"
      ],
      "metadata": {
        "id": "C7r6dI8rNk78"
      }
    },
    {
      "cell_type": "markdown",
      "source": [
        "Preprocessing Utilities"
      ],
      "metadata": {
        "id": "jmBQg9QJx9co"
      }
    },
    {
      "cell_type": "code",
      "source": [
        "import os\n",
        "import shutil\n",
        "\n",
        "def categorize(dataframe, idx, source, dest)->dict:\n",
        "    \"\"\"\n",
        "    accepts fours arguments i.e dataframe, idx, source, dest\n",
        "\n",
        "    returns a dictionary containing arrays as values\n",
        "    \"\"\"\n",
        "    categories = {}\n",
        "    for id in idx:\n",
        "        img_category = dataframe.loc[dataframe[source] == id, dest].to_list()[0]\n",
        "        current_img = str(id) + \".jpg\"\n",
        "        if img_category in categories:\n",
        "            values = categories[img_category]\n",
        "            values.append(current_img)\n",
        "            categories[img_category] = values\n",
        "        else:\n",
        "            categories[img_category] = [current_img]\n",
        "    return categories\n",
        "\n",
        "def copy_images(image_dict, source, dest):\n",
        "    \"\"\"\n",
        "    Accepts image dictionary, source directory and target directory args\n",
        "\n",
        "    copies images into categorized directories\n",
        "    \"\"\"\n",
        "    for key, val in image_dict.items():\n",
        "        dest_image_dir = f\"{dest}/{key}\"\n",
        "        if(not os.path.exists(dest_image_dir)):\n",
        "            os.makedirs(dest_image_dir)\n",
        "        for image in val:\n",
        "            source_img_path = f\"{source}/{image}\"\n",
        "            dest_img_path = f\"{dest_image_dir}/{image}\"\n",
        "            if(os.path.exists(source_img_path)):\n",
        "                if(not os.path.exists(dest_img_path)):\n",
        "                    shutil.copyfile(source_img_path, dest_img_path)\n"
      ],
      "metadata": {
        "id": "6RH5FzzrNyFG"
      },
      "execution_count": null,
      "outputs": []
    },
    {
      "cell_type": "markdown",
      "source": [
        "categorize and Copy data"
      ],
      "metadata": {
        "id": "BAuh-byZyEva"
      }
    },
    {
      "cell_type": "code",
      "source": [
        "import pandas as pd\n",
        "# Load the styles csv file\n",
        "styles_dir = '/content/drive/MyDrive/datasets/fashion_dataset/styles.csv'\n",
        "fashion_df = pd.read_csv(styles_dir, on_bad_lines='skip')\n",
        "ids = fashion_df['id']\n",
        "\n",
        "# Categorize the images based on article type i.e shirts, trousers etc\n",
        "article_categories = categorize(fashion_df, ids, 'id', 'articleType')\n",
        "\n",
        "# Copy images from source directories to a directory with class sub-directories\n",
        "source_dir = \"/content/drive/MyDrive/datasets/fashion_dataset/images\"\n",
        "dest_dir = \"/content/drive/MyDrive/datasets/fashion_dataset/refined\"\n",
        "copy_images(article_categories,source_dir, dest_dir)"
      ],
      "metadata": {
        "id": "QrmNEG-cTmVi"
      },
      "execution_count": null,
      "outputs": []
    }
  ]
}